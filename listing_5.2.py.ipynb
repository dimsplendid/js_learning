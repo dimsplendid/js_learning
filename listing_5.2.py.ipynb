{
 "cells": [
  {
   "cell_type": "code",
   "execution_count": 12,
   "id": "9fece2a6-8e38-4fb9-bb11-a829e7fa8ef6",
   "metadata": {},
   "outputs": [
    {
     "name": "stdout",
     "output_type": "stream",
     "text": [
      "samurai\n",
      "ninja\n"
     ]
    }
   ],
   "source": [
    "outer_value = \"samurai\"\n",
    "\n",
    "def outer_f():\n",
    "    inner_value = \"ninja\"\n",
    "    \n",
    "    def inner_f():\n",
    "        print(outer_value)\n",
    "        print(inner_value)\n",
    "        \n",
    "    return inner_f\n",
    "        \n",
    "later_f = outer_f()\n",
    "later_f()"
   ]
  },
  {
   "cell_type": "code",
   "execution_count": 16,
   "id": "66ec784a-8e5e-49a6-8934-fb31b2b26c01",
   "metadata": {},
   "outputs": [
    {
     "name": "stdout",
     "output_type": "stream",
     "text": [
      "a\n",
      "[1, 2, 3, 4, 5]\n"
     ]
    }
   ],
   "source": [
    "def make_f(x_):\n",
    "    x = x_\n",
    "    def result_f():\n",
    "        print(x)\n",
    "        \n",
    "    return result_f\n",
    "        \n",
    "print_a = make_f(\"a\")\n",
    "print_list = make_f([1,2,3,4,5])\n",
    "\n",
    "print_a()\n",
    "print_list()"
   ]
  }
 ],
 "metadata": {
  "kernelspec": {
   "display_name": "Python 3 (ipykernel)",
   "language": "python",
   "name": "python3"
  },
  "language_info": {
   "codemirror_mode": {
    "name": "ipython",
    "version": 3
   },
   "file_extension": ".py",
   "mimetype": "text/x-python",
   "name": "python",
   "nbconvert_exporter": "python",
   "pygments_lexer": "ipython3",
   "version": "3.10.4"
  }
 },
 "nbformat": 4,
 "nbformat_minor": 5
}
